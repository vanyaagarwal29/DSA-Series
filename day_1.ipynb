{
  "nbformat": 4,
  "nbformat_minor": 0,
  "metadata": {
    "colab": {
      "provenance": [],
      "authorship_tag": "ABX9TyPvd2/qVkmN4lfhWlNYHbdR",
      "include_colab_link": true
    },
    "kernelspec": {
      "name": "python3",
      "display_name": "Python 3"
    },
    "language_info": {
      "name": "python"
    }
  },
  "cells": [
    {
      "cell_type": "markdown",
      "metadata": {
        "id": "view-in-github",
        "colab_type": "text"
      },
      "source": [
        "<a href=\"https://colab.research.google.com/github/vanyaagarwal29/DSA-Series/blob/main/day_1.ipynb\" target=\"_parent\"><img src=\"https://colab.research.google.com/assets/colab-badge.svg\" alt=\"Open In Colab\"/></a>"
      ]
    },
    {
      "cell_type": "code",
      "execution_count": 2,
      "metadata": {
        "colab": {
          "base_uri": "https://localhost:8080/"
        },
        "id": "rFULJ4_NYQvD",
        "outputId": "88675ecf-98a8-4be6-839a-6ed5c6dd14ef"
      },
      "outputs": [
        {
          "output_type": "stream",
          "name": "stdout",
          "text": [
            "1\n"
          ]
        }
      ],
      "source": [
        "#Ternary Search\n",
        "def ternarysearch(l,r,x,arr):\n",
        "  while l<=r:\n",
        "    mid1=l+(r-l)//3\n",
        "    mid2=r-(r-l)//3\n",
        "\n",
        "    if x==arr[mid1]:\n",
        "      return mid1\n",
        "    elif x==arr[mid2]:\n",
        "      return mid2\n",
        "    elif x<arr[mid1]:\n",
        "      return ternarysearch(l,mid1-1,x,arr)\n",
        "    elif x>arr[mid2]:\n",
        "      return ternarysearch(mid2+1,r,x,arr)\n",
        "    else:\n",
        "      return ternarysearch(mid1+1,mid2-1,x,arr)\n",
        "  return -1\n",
        "\n",
        "\n",
        "\n",
        "\n",
        "arr=[1,2,3,4,5,6,7,8,9,10]\n",
        "l=0\n",
        "r=len(arr)-1\n",
        "x=2\n",
        "result=ternarysearch(l,r,x,arr)\n",
        "print(result)"
      ]
    },
    {
      "cell_type": "code",
      "source": [
        "#bubble sort\n",
        "def bubblesort(arr):\n",
        "  n=len(arr)\n",
        "  for i in range(0,n):\n",
        "    for j in range(0,n-i-1):\n",
        "      if arr[j]>arr[j+1]:\n",
        "        arr[j],arr[j+1]=arr[j+1],arr[j]\n",
        "  return arr\n",
        "\n",
        "arr=[3,1,5,2,9,4,9]\n",
        "result=bubblesort(arr)\n",
        "print(result)\n"
      ],
      "metadata": {
        "colab": {
          "base_uri": "https://localhost:8080/"
        },
        "id": "KnAkR0SNoyI4",
        "outputId": "bd57c68c-865b-4647-8ef9-ed898d1f99eb"
      },
      "execution_count": 4,
      "outputs": [
        {
          "output_type": "stream",
          "name": "stdout",
          "text": [
            "[1, 2, 3, 4, 5, 9, 9]\n"
          ]
        }
      ]
    },
    {
      "cell_type": "code",
      "source": [
        "#selection sort\n",
        "def selectionsort(arr):\n",
        "  n=len(arr)\n",
        "  for i in range(n):\n",
        "    min_index=i\n",
        "    for j in range(i+1,n):\n",
        "      if arr[j]<arr[min_index]:\n",
        "        min_index=j\n",
        "    \n",
        "    arr[i],arr[min_index]=arr[min_index],arr[i]\n",
        "  return arr\n",
        "\n",
        "arr=[3,1,5,2,9,4,9]\n",
        "result=selectionsort(arr)\n",
        "print(result)\n"
      ],
      "metadata": {
        "colab": {
          "base_uri": "https://localhost:8080/"
        },
        "id": "_YccK7Qc6vZ_",
        "outputId": "752959e2-9167-4e84-c4e2-bd65ae18d1c1"
      },
      "execution_count": 5,
      "outputs": [
        {
          "output_type": "stream",
          "name": "stdout",
          "text": [
            "[1, 2, 3, 4, 5, 9, 9]\n"
          ]
        }
      ]
    }
  ]
}