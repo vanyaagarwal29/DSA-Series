{
  "nbformat": 4,
  "nbformat_minor": 0,
  "metadata": {
    "colab": {
      "provenance": [],
      "authorship_tag": "ABX9TyNNATMyNGu0Yx6hgdwIGzkW",
      "include_colab_link": true
    },
    "kernelspec": {
      "name": "python3",
      "display_name": "Python 3"
    },
    "language_info": {
      "name": "python"
    }
  },
  "cells": [
    {
      "cell_type": "markdown",
      "metadata": {
        "id": "view-in-github",
        "colab_type": "text"
      },
      "source": [
        "<a href=\"https://colab.research.google.com/github/vanyaagarwal29/DSA-Series/blob/main/day_1.ipynb\" target=\"_parent\"><img src=\"https://colab.research.google.com/assets/colab-badge.svg\" alt=\"Open In Colab\"/></a>"
      ]
    },
    {
      "cell_type": "code",
      "execution_count": null,
      "metadata": {
        "colab": {
          "base_uri": "https://localhost:8080/"
        },
        "id": "rFULJ4_NYQvD",
        "outputId": "88675ecf-98a8-4be6-839a-6ed5c6dd14ef"
      },
      "outputs": [
        {
          "output_type": "stream",
          "name": "stdout",
          "text": [
            "1\n"
          ]
        }
      ],
      "source": [
        "#Ternary Search\n",
        "def ternarysearch(l,r,x,arr):\n",
        "  while l<=r:\n",
        "    mid1=l+(r-l)//3\n",
        "    mid2=r-(r-l)//3\n",
        "\n",
        "    if x==arr[mid1]:\n",
        "      return mid1\n",
        "    elif x==arr[mid2]:\n",
        "      return mid2\n",
        "    elif x<arr[mid1]:\n",
        "      return ternarysearch(l,mid1-1,x,arr)\n",
        "    elif x>arr[mid2]:\n",
        "      return ternarysearch(mid2+1,r,x,arr)\n",
        "    else:\n",
        "      return ternarysearch(mid1+1,mid2-1,x,arr)\n",
        "  return -1\n",
        "\n",
        "\n",
        "\n",
        "\n",
        "arr=[1,2,3,4,5,6,7,8,9,10]\n",
        "l=0\n",
        "r=len(arr)-1\n",
        "x=2\n",
        "result=ternarysearch(l,r,x,arr)\n",
        "print(result)"
      ]
    },
    {
      "cell_type": "code",
      "source": [
        "#bubble sort\n",
        "def bubblesort(arr):\n",
        "  n=len(arr)\n",
        "  for i in range(0,n):\n",
        "    for j in range(0,n-i-1):\n",
        "      if arr[j]>arr[j+1]:\n",
        "        arr[j],arr[j+1]=arr[j+1],arr[j]\n",
        "  return arr\n",
        "\n",
        "arr=[3,1,5,2,9,4,9]\n",
        "result=bubblesort(arr)\n",
        "print(result)\n"
      ],
      "metadata": {
        "colab": {
          "base_uri": "https://localhost:8080/"
        },
        "id": "KnAkR0SNoyI4",
        "outputId": "bd57c68c-865b-4647-8ef9-ed898d1f99eb"
      },
      "execution_count": null,
      "outputs": [
        {
          "output_type": "stream",
          "name": "stdout",
          "text": [
            "[1, 2, 3, 4, 5, 9, 9]\n"
          ]
        }
      ]
    },
    {
      "cell_type": "code",
      "source": [
        "#selection sort\n",
        "def selectionsort(arr):\n",
        "  n=len(arr)\n",
        "  for i in range(n):\n",
        "    min_index=i\n",
        "    for j in range(i+1,n):\n",
        "      if arr[j]<arr[min_index]:\n",
        "        min_index=j\n",
        "\n",
        "    arr[i],arr[min_index]=arr[min_index],arr[i]\n",
        "  return arr\n",
        "\n",
        "arr=[3,1,5,2,9,4,9]\n",
        "result=selectionsort(arr)\n",
        "print(result)\n"
      ],
      "metadata": {
        "colab": {
          "base_uri": "https://localhost:8080/"
        },
        "id": "_YccK7Qc6vZ_",
        "outputId": "752959e2-9167-4e84-c4e2-bd65ae18d1c1"
      },
      "execution_count": null,
      "outputs": [
        {
          "output_type": "stream",
          "name": "stdout",
          "text": [
            "[1, 2, 3, 4, 5, 9, 9]\n"
          ]
        }
      ]
    },
    {
      "cell_type": "code",
      "source": [
        "def insertionsort(arr):\n",
        "  for i in range(1,len(arr)):\n",
        "    key=arr[i]\n",
        "    j=i-1\n",
        "    while j>=0 and key<arr[j]:\n",
        "      arr[j+1]=arr[j]\n",
        "      j=j-1\n",
        "    arr[j+1]=key\n",
        "  return arr\n",
        "\n",
        "\n",
        "\n",
        "\n",
        "\n",
        "arr=[3,1,5,2,9,4,9]\n",
        "result=insertionsort(arr)\n",
        "print(result)"
      ],
      "metadata": {
        "id": "yhXGxrCYBwqM",
        "outputId": "843e8cea-efb7-4266-d042-536bf5e087a8",
        "colab": {
          "base_uri": "https://localhost:8080/"
        }
      },
      "execution_count": null,
      "outputs": [
        {
          "output_type": "stream",
          "name": "stdout",
          "text": [
            "[1, 2, 3, 4, 5, 9, 9]\n"
          ]
        }
      ]
    },
    {
      "cell_type": "code",
      "source": [
        "#Divide n conqueer\n",
        "def findmaxmin(arr,i,j):\n",
        "  if i==j:\n",
        "    max=arr[i]\n",
        "    min=arr[j]\n",
        "  elif i==j-1:\n",
        "    if arr[i]<arr[j]:\n",
        "      max=arr[j]\n",
        "      min=arr[i]\n",
        "    else:\n",
        "      max=arr[1]\n",
        "      min=arr[j]\n",
        "\n",
        "  else:\n",
        "    mid=i+(j-i)//2\n",
        "    max_l,min_l=findmaxmin(arr,i,mid)\n",
        "    max_r,min_r=findmaxmin(arr,mid+1,j)\n",
        "\n",
        "    if max_l<max_r:\n",
        "      max=max_r\n",
        "    else:\n",
        "      max=max_l\n",
        "\n",
        "    if min_l<min_r:\n",
        "      min=min_l\n",
        "    else:\n",
        "      min=min_r\n",
        "\n",
        "  return max,min\n",
        "\n",
        "\n",
        "\n",
        "\n",
        "\n",
        "\n",
        "\n",
        "\n",
        "arr=[10,45,3,5,6,99]\n",
        "i=0\n",
        "j=len(arr)-1\n",
        "max,min=findmaxmin(arr,i,j)\n",
        "print(max,min)"
      ],
      "metadata": {
        "id": "GVM4gIsBEyky",
        "outputId": "efd216d1-58e2-4168-a087-0fe07dbc316a",
        "colab": {
          "base_uri": "https://localhost:8080/"
        }
      },
      "execution_count": null,
      "outputs": [
        {
          "output_type": "stream",
          "name": "stdout",
          "text": [
            "99 3\n"
          ]
        }
      ]
    },
    {
      "cell_type": "code",
      "source": [
        "## Finding of power of an element when n >= 1\n",
        "## Assignment task: n <= 0\n",
        "## Time complexity : O(logn)\n",
        "## function definition\n",
        "def findPowerOfElement(a,n):\n",
        "    ## small problem\n",
        "    ## if n < 0:\n",
        "    ## if n == 0:\n",
        "    if n == 1:\n",
        "        return a\n",
        "    else:\n",
        "        ## big problem -> Divide and Conquer Approach\n",
        "        mid = n // 2\n",
        "        ## recursive call\n",
        "        b = findPowerOfElement(a,mid)\n",
        "        result = b * b\n",
        "        #even\n",
        "        if n % 2 == 0:\n",
        "            return result\n",
        "        return result * a\n",
        "\n",
        "## Driver code\n",
        "## n = -4\n",
        "a = 2\n",
        "n = 12\n",
        "## function calling\n",
        "result = findPowerOfElement(a,n)\n",
        "print(\"The power of an element is:\", result)"
      ],
      "metadata": {
        "id": "eqRoD40Ff3gg",
        "outputId": "55914f5a-f8b7-4046-9495-adcda75e45bd",
        "colab": {
          "base_uri": "https://localhost:8080/"
        }
      },
      "execution_count": 1,
      "outputs": [
        {
          "output_type": "stream",
          "name": "stdout",
          "text": [
            "The power of an element is: 4096\n"
          ]
        }
      ]
    },
    {
      "cell_type": "code",
      "source": [
        "## Implementation of Merge Sort\n",
        "## function definition of merge Procedure\n",
        "## n1+n2 = N\n",
        "## MergeProcedure time complexity = O(N)\n",
        "def mergeProcedure(arr, i, mid, j):\n",
        "    ## n1-> number of elements in the left subarray(i, mid)\n",
        "    n1 = mid - i + 1\n",
        "    ## n2 -> number of elements in the right subarray(mid+1, j)\n",
        "    n2 = j - mid\n",
        "\n",
        "    ## intialization of left and right subarray\n",
        "    leftSubarray = [0] * n1\n",
        "    rightSubarray = [0] * n2\n",
        "\n",
        "    ## copy the elements from an array to the subarrays\n",
        "    for m in range(n1):\n",
        "        leftSubarray[m] = arr[i + m]\n",
        "\n",
        "    for n in range(n2):\n",
        "        rightSubarray[n] = arr[mid + 1 + n]\n",
        "\n",
        "    p = 0\n",
        "    q = 0\n",
        "    k = i\n",
        "    ## returning a sorted subarray\n",
        "    while p < n1 and q < n2:\n",
        "        if leftSubarray[p] <= rightSubarray[q]:\n",
        "            arr[k] = leftSubarray[p]\n",
        "            p += 1\n",
        "        else:\n",
        "            arr[k] = rightSubarray[q]\n",
        "            q += 1\n",
        "        k += 1\n",
        "\n",
        "    ## copy the entire elements from the left subarray\n",
        "    while p < n1:\n",
        "        arr[k] = leftSubarray[p]\n",
        "        p += 1\n",
        "        k += 1\n",
        "\n",
        "    ## copy the entire elements from the right subarray\n",
        "    while q < n2:\n",
        "        arr[k] = rightSubarray[q]\n",
        "        q += 1\n",
        "        k += 1\n",
        "\n",
        "## function definition of merge sort\n",
        "## Approach -> Divide and Conquer\n",
        "## Recurrence Relation -> 2T(N/2) + N\n",
        "## Time complexity -> O(NlogN)\n",
        "def mergeSort(arr, i, j):\n",
        "    if i < j:\n",
        "        ## Divide\n",
        "        mid = i + (j-i)//2\n",
        "        ## Conquer\n",
        "        ## recursive call -> left subtree\n",
        "        mergeSort(arr, i, mid)\n",
        "        ## recursive call -> right subtree\n",
        "        mergeSort(arr, mid+1, j)\n",
        "        ## Combine -> mergeProcedure(function calling)\n",
        "        mergeProcedure(arr, i, mid, j)\n",
        "    return arr\n",
        "\n",
        "\n",
        "## Driver code\n",
        "arr = [50, 70, 65, 13, 80, 62, 98, 27]\n",
        "i = 0\n",
        "j = len(arr) - 1\n",
        "## function calling\n",
        "result = mergeSort(arr, i, j)\n",
        "print(\"Sorted array after applying the merge sort is:\", result)"
      ],
      "metadata": {
        "id": "awDhdJ3bGmum"
      },
      "execution_count": null,
      "outputs": []
    },
    {
      "cell_type": "code",
      "source": [
        "## Implementation using the quickSort algorithm\n",
        "## Recurrence Relation -> T(n) = T(m-p) + T(q-m) + n\n",
        "## Best Case Scenario -> T(n) = T(n/2) + T(n/2) + n => O(n logn)\n",
        "## Worst Case Scenario -> T(n) = T(n-1) + n => O(n^2)\n",
        "## function definition of partition algorithm -> O(n)\n",
        "def partition(arr, p, q):\n",
        "    i = p\n",
        "    ## starting element as a pivot element\n",
        "    pivot = arr[p]\n",
        "    for j in range(i+1, q+1):\n",
        "        if arr[j] <= pivot:\n",
        "            i += 1\n",
        "            ## swap between the arr[i] and arr[j]\n",
        "            arr[i], arr[j] = arr[j], arr[i]\n",
        "    ## swap between the arr[i] and the pivot element\n",
        "    arr[i], arr[p] = arr[p], arr[i]\n",
        "    return i\n",
        "\n",
        "## function definition of quickSort\n",
        "def quickSort(arr, p, q):\n",
        "    if p < q:\n",
        "        ## function calling for partition algorithm\n",
        "        mid = partition(arr, p, q)\n",
        "        ## recursive call for left subtree\n",
        "        ## T(mid-p)\n",
        "        quickSort(arr, p, mid-1)\n",
        "        ## recursive call for right subtree\n",
        "        ## T(q-mid)\n",
        "        quickSort(arr, mid+1, q)\n",
        "    return arr\n",
        "\n",
        "## Driver code\n",
        "arr = [20, 10, 5, 70, 50, 89, 34]\n",
        "p = 0\n",
        "q = len(arr) - 1\n",
        "## function calling\n",
        "result = quickSort(arr, p, q)\n",
        "print(\"Sorted array after applying the quickSort is:\", result)"
      ],
      "metadata": {
        "id": "mQVo-qwlLNpa"
      },
      "execution_count": null,
      "outputs": []
    },
    {
      "cell_type": "code",
      "source": [
        "#Two pointer approach\n",
        "def findPair(arr):\n",
        "  l=0\n",
        "  r=len(arr)-1\n",
        "  for i in range(len(arr)-1):\n",
        "    if arr[l]+arr[r]==target:\n",
        "      return l,r\n",
        "    elif arr[l]+arr[r]>target:\n",
        "      r=r-1\n",
        "    else:\n",
        "      l=l+1\n",
        "  return -1,-1\n",
        "\n",
        "\n",
        "#driver code\n",
        "arr=[2,3,4,5,6]\n",
        "target=6\n",
        "result=findPair(arr)\n",
        "print(result)"
      ],
      "metadata": {
        "id": "Hx47OjMALVs9",
        "outputId": "d7a06859-8d39-4b1c-8878-eb77689ca897",
        "colab": {
          "base_uri": "https://localhost:8080/"
        }
      },
      "execution_count": 2,
      "outputs": [
        {
          "output_type": "stream",
          "name": "stdout",
          "text": [
            "(0, 2)\n"
          ]
        }
      ]
    },
    {
      "cell_type": "code",
      "source": [
        "## Implementation using the quickSort algorithm\n",
        "## Recurrence Relation -> T(n) = T(m-p) + T(q-m) + n\n",
        "## Best Case Scenario -> T(n) = T(n/2) + T(n/2) + n => O(n logn)\n",
        "## Worst Case Scenario -> T(n) = T(n-1) + n => O(n^2)\n",
        "## function definition of partition algorithm -> O(n)\n",
        "import random\n",
        "def randompartition(arr,p,q):\n",
        "  random_pivot=random.randrange(p,q)\n",
        "  arr[p],arr[random_pivot]=arr[random_pivot],arr[p]\n",
        "  return partition(arr,p,q)\n",
        "def partition(arr, p, q):\n",
        "    i = p\n",
        "    ## starting element as a pivot element\n",
        "    pivot = arr[p]\n",
        "    for j in range(i+1, q+1):\n",
        "        if arr[j] <= pivot:\n",
        "            i += 1\n",
        "            ## swap between the arr[i] and arr[j]\n",
        "            arr[i], arr[j] = arr[j], arr[i]\n",
        "    ## swap between the arr[i] and the pivot element\n",
        "    arr[i], arr[p] = arr[p], arr[i]\n",
        "    return i\n",
        "\n",
        "## function definition of quickSort\n",
        "def quickSort(arr, p, q):\n",
        "    if p < q:\n",
        "        ## function calling for partition algorithm\n",
        "        mid = randompartition(arr, p, q)\n",
        "        ## recursive call for left subtree\n",
        "        ## T(mid-p)\n",
        "        quickSort(arr, p, mid-1)\n",
        "        ## recursive call for right subtree\n",
        "        ## T(q-mid)\n",
        "        quickSort(arr, mid+1, q)\n",
        "    return arr\n",
        "\n",
        "## Driver code\n",
        "arr = [20, 10, 5, 70, 50, 89, 34]\n",
        "p = 0\n",
        "q = len(arr) - 1\n",
        "## function calling\n",
        "result = quickSort(arr, p, q)\n",
        "print(\"Sorted array after applying the quickSort is:\", result)"
      ],
      "metadata": {
        "id": "lxusV14WRuDl",
        "outputId": "684906e6-2c65-4828-efcb-b9af7db80204",
        "colab": {
          "base_uri": "https://localhost:8080/"
        }
      },
      "execution_count": 4,
      "outputs": [
        {
          "output_type": "stream",
          "name": "stdout",
          "text": [
            "Sorted array after applying the quickSort is: [5, 10, 20, 34, 50, 70, 89]\n"
          ]
        }
      ]
    },
    {
      "cell_type": "code",
      "source": [
        "#selection procedure->kth smalest element\n",
        "def partition(arr,p,q):\n",
        "  i = p\n",
        "  pivot=arr[p]\n",
        "  for j in range(i+1,q+1):\n",
        "    if arr[j] <= pivot:\n",
        "      i += 1\n",
        "      arr[i], arr[j] = arr[j], arr[i]\n",
        "  arr[i], arr[p] = arr[p], arr[i]\n",
        "  return i+1\n",
        "def SelectionProcedure(arr,p,q,k):\n",
        "  if len(arr)==1:\n",
        "    return arr[p]\n",
        "  else:\n",
        "    m=partition(arr,p,q)\n",
        "    if m==k:\n",
        "      return arr[m-1]\n",
        "    elif m<k:\n",
        "      return SelectionProcedure(arr,m,q,k)\n",
        "    else:\n",
        "      return SelectionProcedure(arr,p,m-2,k)\n",
        "\n",
        "#driver cpded\n",
        "arr=[20,6,8,5]\n",
        "k=2\n",
        "p=0\n",
        "q=len(arr)-1\n",
        "result=SelectionProcedure(arr,p,q,k)\n",
        "print(result)"
      ],
      "metadata": {
        "id": "Jh1dHcbPTJCm",
        "outputId": "b801959c-0a3a-4968-dbfd-648303955b93",
        "colab": {
          "base_uri": "https://localhost:8080/"
        }
      },
      "execution_count": 6,
      "outputs": [
        {
          "output_type": "stream",
          "name": "stdout",
          "text": [
            "6\n"
          ]
        }
      ]
    },
    {
      "cell_type": "code",
      "source": [],
      "metadata": {
        "id": "ebPRdEKodlbz"
      },
      "execution_count": null,
      "outputs": []
    }
  ]
}