{
  "nbformat": 4,
  "nbformat_minor": 0,
  "metadata": {
    "colab": {
      "provenance": [],
      "authorship_tag": "ABX9TyNQTR3/+XzEs7W8iBaucQfF",
      "include_colab_link": true
    },
    "kernelspec": {
      "name": "python3",
      "display_name": "Python 3"
    },
    "language_info": {
      "name": "python"
    }
  },
  "cells": [
    {
      "cell_type": "markdown",
      "metadata": {
        "id": "view-in-github",
        "colab_type": "text"
      },
      "source": [
        "<a href=\"https://colab.research.google.com/github/vanyaagarwal29/DSA-Series/blob/main/day_1.ipynb\" target=\"_parent\"><img src=\"https://colab.research.google.com/assets/colab-badge.svg\" alt=\"Open In Colab\"/></a>"
      ]
    },
    {
      "cell_type": "code",
      "execution_count": null,
      "metadata": {
        "colab": {
          "base_uri": "https://localhost:8080/"
        },
        "id": "rFULJ4_NYQvD",
        "outputId": "88675ecf-98a8-4be6-839a-6ed5c6dd14ef"
      },
      "outputs": [
        {
          "output_type": "stream",
          "name": "stdout",
          "text": [
            "1\n"
          ]
        }
      ],
      "source": [
        "#Ternary Search\n",
        "def ternarysearch(l,r,x,arr):\n",
        "  while l<=r:\n",
        "    mid1=l+(r-l)//3\n",
        "    mid2=r-(r-l)//3\n",
        "\n",
        "    if x==arr[mid1]:\n",
        "      return mid1\n",
        "    elif x==arr[mid2]:\n",
        "      return mid2\n",
        "    elif x<arr[mid1]:\n",
        "      return ternarysearch(l,mid1-1,x,arr)\n",
        "    elif x>arr[mid2]:\n",
        "      return ternarysearch(mid2+1,r,x,arr)\n",
        "    else:\n",
        "      return ternarysearch(mid1+1,mid2-1,x,arr)\n",
        "  return -1\n",
        "\n",
        "\n",
        "\n",
        "\n",
        "arr=[1,2,3,4,5,6,7,8,9,10]\n",
        "l=0\n",
        "r=len(arr)-1\n",
        "x=2\n",
        "result=ternarysearch(l,r,x,arr)\n",
        "print(result)"
      ]
    },
    {
      "cell_type": "code",
      "source": [
        "#bubble sort\n",
        "def bubblesort(arr):\n",
        "  n=len(arr)\n",
        "  for i in range(0,n):\n",
        "    for j in range(0,n-i-1):\n",
        "      if arr[j]>arr[j+1]:\n",
        "        arr[j],arr[j+1]=arr[j+1],arr[j]\n",
        "  return arr\n",
        "\n",
        "arr=[3,1,5,2,9,4,9]\n",
        "result=bubblesort(arr)\n",
        "print(result)\n"
      ],
      "metadata": {
        "colab": {
          "base_uri": "https://localhost:8080/"
        },
        "id": "KnAkR0SNoyI4",
        "outputId": "bd57c68c-865b-4647-8ef9-ed898d1f99eb"
      },
      "execution_count": null,
      "outputs": [
        {
          "output_type": "stream",
          "name": "stdout",
          "text": [
            "[1, 2, 3, 4, 5, 9, 9]\n"
          ]
        }
      ]
    },
    {
      "cell_type": "code",
      "source": [
        "#selection sort\n",
        "def selectionsort(arr):\n",
        "  n=len(arr)\n",
        "  for i in range(n):\n",
        "    min_index=i\n",
        "    for j in range(i+1,n):\n",
        "      if arr[j]<arr[min_index]:\n",
        "        min_index=j\n",
        "\n",
        "    arr[i],arr[min_index]=arr[min_index],arr[i]\n",
        "  return arr\n",
        "\n",
        "arr=[3,1,5,2,9,4,9]\n",
        "result=selectionsort(arr)\n",
        "print(result)\n"
      ],
      "metadata": {
        "colab": {
          "base_uri": "https://localhost:8080/"
        },
        "id": "_YccK7Qc6vZ_",
        "outputId": "752959e2-9167-4e84-c4e2-bd65ae18d1c1"
      },
      "execution_count": null,
      "outputs": [
        {
          "output_type": "stream",
          "name": "stdout",
          "text": [
            "[1, 2, 3, 4, 5, 9, 9]\n"
          ]
        }
      ]
    },
    {
      "cell_type": "code",
      "source": [
        "def insertionsort(arr):\n",
        "  for i in range(1,len(arr)):\n",
        "    key=arr[i]\n",
        "    j=i-1\n",
        "    while j>=0 and key<arr[j]:\n",
        "      arr[j+1]=arr[j]\n",
        "      j=j-1\n",
        "    arr[j+1]=key\n",
        "  return arr\n",
        "\n",
        "\n",
        "\n",
        "\n",
        "\n",
        "arr=[3,1,5,2,9,4,9]\n",
        "result=insertionsort(arr)\n",
        "print(result)"
      ],
      "metadata": {
        "id": "yhXGxrCYBwqM",
        "outputId": "843e8cea-efb7-4266-d042-536bf5e087a8",
        "colab": {
          "base_uri": "https://localhost:8080/"
        }
      },
      "execution_count": null,
      "outputs": [
        {
          "output_type": "stream",
          "name": "stdout",
          "text": [
            "[1, 2, 3, 4, 5, 9, 9]\n"
          ]
        }
      ]
    },
    {
      "cell_type": "code",
      "source": [
        "#Divide n conqueer\n",
        "def findmaxmin(arr,i,j):\n",
        "  if i==j:\n",
        "    max=arr[i]\n",
        "    min=arr[j]\n",
        "  elif i==j-1:\n",
        "    if arr[i]<arr[j]:\n",
        "      max=arr[j]\n",
        "      min=arr[i]\n",
        "    else:\n",
        "      max=arr[1]\n",
        "      min=arr[j]\n",
        "\n",
        "  else:\n",
        "    mid=i+(j-i)//2\n",
        "    max_l,min_l=findmaxmin(arr,i,mid)\n",
        "    max_r,min_r=findmaxmin(arr,mid+1,j)\n",
        "\n",
        "    if max_l<max_r:\n",
        "      max=max_r\n",
        "    else:\n",
        "      max=max_l\n",
        "\n",
        "    if min_l<min_r:\n",
        "      min=min_l\n",
        "    else:\n",
        "      min=min_r\n",
        "\n",
        "  return max,min\n",
        "\n",
        "\n",
        "\n",
        "\n",
        "\n",
        "\n",
        "\n",
        "\n",
        "arr=[10,45,3,5,6,99]\n",
        "i=0\n",
        "j=len(arr)-1\n",
        "max,min=findmaxmin(arr,i,j)\n",
        "print(max,min)"
      ],
      "metadata": {
        "id": "GVM4gIsBEyky",
        "outputId": "efd216d1-58e2-4168-a087-0fe07dbc316a",
        "colab": {
          "base_uri": "https://localhost:8080/"
        }
      },
      "execution_count": 1,
      "outputs": [
        {
          "output_type": "stream",
          "name": "stdout",
          "text": [
            "99 3\n"
          ]
        }
      ]
    },
    {
      "cell_type": "code",
      "source": [],
      "metadata": {
        "id": "eqRoD40Ff3gg"
      },
      "execution_count": null,
      "outputs": []
    }
  ]
}