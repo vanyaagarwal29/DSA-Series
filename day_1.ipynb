{
  "nbformat": 4,
  "nbformat_minor": 0,
  "metadata": {
    "colab": {
      "provenance": [],
      "authorship_tag": "ABX9TyP+MoqxXus+Nb7Y2tnRyjvk",
      "include_colab_link": true
    },
    "kernelspec": {
      "name": "python3",
      "display_name": "Python 3"
    },
    "language_info": {
      "name": "python"
    }
  },
  "cells": [
    {
      "cell_type": "markdown",
      "metadata": {
        "id": "view-in-github",
        "colab_type": "text"
      },
      "source": [
        "<a href=\"https://colab.research.google.com/github/vanyaagarwal29/DSA-Series/blob/main/day_1.ipynb\" target=\"_parent\"><img src=\"https://colab.research.google.com/assets/colab-badge.svg\" alt=\"Open In Colab\"/></a>"
      ]
    },
    {
      "cell_type": "code",
      "execution_count": null,
      "metadata": {
        "colab": {
          "base_uri": "https://localhost:8080/"
        },
        "id": "rFULJ4_NYQvD",
        "outputId": "88675ecf-98a8-4be6-839a-6ed5c6dd14ef"
      },
      "outputs": [
        {
          "output_type": "stream",
          "name": "stdout",
          "text": [
            "1\n"
          ]
        }
      ],
      "source": [
        "#Ternary Search\n",
        "def ternarysearch(l,r,x,arr):\n",
        "  while l<=r:\n",
        "    mid1=l+(r-l)//3\n",
        "    mid2=r-(r-l)//3\n",
        "\n",
        "    if x==arr[mid1]:\n",
        "      return mid1\n",
        "    elif x==arr[mid2]:\n",
        "      return mid2\n",
        "    elif x<arr[mid1]:\n",
        "      return ternarysearch(l,mid1-1,x,arr)\n",
        "    elif x>arr[mid2]:\n",
        "      return ternarysearch(mid2+1,r,x,arr)\n",
        "    else:\n",
        "      return ternarysearch(mid1+1,mid2-1,x,arr)\n",
        "  return -1\n",
        "\n",
        "\n",
        "\n",
        "\n",
        "arr=[1,2,3,4,5,6,7,8,9,10]\n",
        "l=0\n",
        "r=len(arr)-1\n",
        "x=2\n",
        "result=ternarysearch(l,r,x,arr)\n",
        "print(result)"
      ]
    },
    {
      "cell_type": "code",
      "source": [
        "#bubble sort\n",
        "def bubblesort(arr):\n",
        "  n=len(arr)\n",
        "  for i in range(0,n):\n",
        "    for j in range(0,n-i-1):\n",
        "      if arr[j]>arr[j+1]:\n",
        "        arr[j],arr[j+1]=arr[j+1],arr[j]\n",
        "  return arr\n",
        "\n",
        "arr=[3,1,5,2,9,4,9]\n",
        "result=bubblesort(arr)\n",
        "print(result)\n"
      ],
      "metadata": {
        "colab": {
          "base_uri": "https://localhost:8080/"
        },
        "id": "KnAkR0SNoyI4",
        "outputId": "bd57c68c-865b-4647-8ef9-ed898d1f99eb"
      },
      "execution_count": null,
      "outputs": [
        {
          "output_type": "stream",
          "name": "stdout",
          "text": [
            "[1, 2, 3, 4, 5, 9, 9]\n"
          ]
        }
      ]
    },
    {
      "cell_type": "code",
      "source": [
        "#selection sort\n",
        "def selectionsort(arr):\n",
        "  n=len(arr)\n",
        "  for i in range(n):\n",
        "    min_index=i\n",
        "    for j in range(i+1,n):\n",
        "      if arr[j]<arr[min_index]:\n",
        "        min_index=j\n",
        "\n",
        "    arr[i],arr[min_index]=arr[min_index],arr[i]\n",
        "  return arr\n",
        "\n",
        "arr=[3,1,5,2,9,4,9]\n",
        "result=selectionsort(arr)\n",
        "print(result)\n"
      ],
      "metadata": {
        "colab": {
          "base_uri": "https://localhost:8080/"
        },
        "id": "_YccK7Qc6vZ_",
        "outputId": "752959e2-9167-4e84-c4e2-bd65ae18d1c1"
      },
      "execution_count": null,
      "outputs": [
        {
          "output_type": "stream",
          "name": "stdout",
          "text": [
            "[1, 2, 3, 4, 5, 9, 9]\n"
          ]
        }
      ]
    },
    {
      "cell_type": "code",
      "source": [
        "def insertionsort(arr):\n",
        "  for i in range(1,len(arr)):\n",
        "    key=arr[i]\n",
        "    j=i-1\n",
        "    while j>=0 and key<arr[j]:\n",
        "      arr[j+1]=arr[j]\n",
        "      j=j-1\n",
        "    arr[j+1]=key\n",
        "  return arr\n",
        "\n",
        "\n",
        "\n",
        "\n",
        "\n",
        "arr=[3,1,5,2,9,4,9]\n",
        "result=insertionsort(arr)\n",
        "print(result)"
      ],
      "metadata": {
        "id": "yhXGxrCYBwqM",
        "outputId": "843e8cea-efb7-4266-d042-536bf5e087a8",
        "colab": {
          "base_uri": "https://localhost:8080/"
        }
      },
      "execution_count": null,
      "outputs": [
        {
          "output_type": "stream",
          "name": "stdout",
          "text": [
            "[1, 2, 3, 4, 5, 9, 9]\n"
          ]
        }
      ]
    },
    {
      "cell_type": "code",
      "source": [
        "#Divide n conqueer\n",
        "def findmaxmin(arr,i,j):\n",
        "  if i==j:\n",
        "    max=arr[i]\n",
        "    min=arr[j]\n",
        "  elif i==j-1:\n",
        "    if arr[i]<arr[j]:\n",
        "      max=arr[j]\n",
        "      min=arr[i]\n",
        "    else:\n",
        "      max=arr[1]\n",
        "      min=arr[j]\n",
        "\n",
        "  else:\n",
        "    mid=i+(j-i)//2\n",
        "    max_l,min_l=findmaxmin(arr,i,mid)\n",
        "    max_r,min_r=findmaxmin(arr,mid+1,j)\n",
        "\n",
        "    if max_l<max_r:\n",
        "      max=max_r\n",
        "    else:\n",
        "      max=max_l\n",
        "\n",
        "    if min_l<min_r:\n",
        "      min=min_l\n",
        "    else:\n",
        "      min=min_r\n",
        "\n",
        "  return max,min\n",
        "\n",
        "\n",
        "\n",
        "\n",
        "\n",
        "\n",
        "\n",
        "\n",
        "arr=[10,45,3,5,6,99]\n",
        "i=0\n",
        "j=len(arr)-1\n",
        "max,min=findmaxmin(arr,i,j)\n",
        "print(max,min)"
      ],
      "metadata": {
        "id": "GVM4gIsBEyky",
        "outputId": "efd216d1-58e2-4168-a087-0fe07dbc316a",
        "colab": {
          "base_uri": "https://localhost:8080/"
        }
      },
      "execution_count": null,
      "outputs": [
        {
          "output_type": "stream",
          "name": "stdout",
          "text": [
            "99 3\n"
          ]
        }
      ]
    },
    {
      "cell_type": "code",
      "source": [
        "## Finding of power of an element when n >= 1\n",
        "## Assignment task: n <= 0\n",
        "## Time complexity : O(logn)\n",
        "## function definition\n",
        "def findPowerOfElement(a,n):\n",
        "    ## small problem\n",
        "    ## if n < 0:\n",
        "    ## if n == 0:\n",
        "    if n == 1:\n",
        "        return a\n",
        "    else:\n",
        "        ## big problem -> Divide and Conquer Approach\n",
        "        mid = n // 2\n",
        "        ## recursive call\n",
        "        b = findPowerOfElement(a,mid)\n",
        "        result = b * b\n",
        "        #even\n",
        "        if n % 2 == 0:\n",
        "            return result\n",
        "        return result * a\n",
        "\n",
        "## Driver code\n",
        "## n = -4\n",
        "a = 2\n",
        "n = 12\n",
        "## function calling\n",
        "result = findPowerOfElement(a,n)\n",
        "print(\"The power of an element is:\", result)"
      ],
      "metadata": {
        "id": "eqRoD40Ff3gg",
        "outputId": "55914f5a-f8b7-4046-9495-adcda75e45bd",
        "colab": {
          "base_uri": "https://localhost:8080/"
        }
      },
      "execution_count": null,
      "outputs": [
        {
          "output_type": "stream",
          "name": "stdout",
          "text": [
            "The power of an element is: 4096\n"
          ]
        }
      ]
    },
    {
      "cell_type": "code",
      "source": [
        "## Implementation of Merge Sort\n",
        "## function definition of merge Procedure\n",
        "## n1+n2 = N\n",
        "## MergeProcedure time complexity = O(N)\n",
        "def mergeProcedure(arr, i, mid, j):\n",
        "    ## n1-> number of elements in the left subarray(i, mid)\n",
        "    n1 = mid - i + 1\n",
        "    ## n2 -> number of elements in the right subarray(mid+1, j)\n",
        "    n2 = j - mid\n",
        "\n",
        "    ## intialization of left and right subarray\n",
        "    leftSubarray = [0] * n1\n",
        "    rightSubarray = [0] * n2\n",
        "\n",
        "    ## copy the elements from an array to the subarrays\n",
        "    for m in range(n1):\n",
        "        leftSubarray[m] = arr[i + m]\n",
        "\n",
        "    for n in range(n2):\n",
        "        rightSubarray[n] = arr[mid + 1 + n]\n",
        "\n",
        "    p = 0\n",
        "    q = 0\n",
        "    k = i\n",
        "    ## returning a sorted subarray\n",
        "    while p < n1 and q < n2:\n",
        "        if leftSubarray[p] <= rightSubarray[q]:\n",
        "            arr[k] = leftSubarray[p]\n",
        "            p += 1\n",
        "        else:\n",
        "            arr[k] = rightSubarray[q]\n",
        "            q += 1\n",
        "        k += 1\n",
        "\n",
        "    ## copy the entire elements from the left subarray\n",
        "    while p < n1:\n",
        "        arr[k] = leftSubarray[p]\n",
        "        p += 1\n",
        "        k += 1\n",
        "\n",
        "    ## copy the entire elements from the right subarray\n",
        "    while q < n2:\n",
        "        arr[k] = rightSubarray[q]\n",
        "        q += 1\n",
        "        k += 1\n",
        "\n",
        "## function definition of merge sort\n",
        "## Approach -> Divide and Conquer\n",
        "## Recurrence Relation -> 2T(N/2) + N\n",
        "## Time complexity -> O(NlogN)\n",
        "def mergeSort(arr, i, j):\n",
        "    if i < j:\n",
        "        ## Divide\n",
        "        mid = i + (j-i)//2\n",
        "        ## Conquer\n",
        "        ## recursive call -> left subtree\n",
        "        mergeSort(arr, i, mid)\n",
        "        ## recursive call -> right subtree\n",
        "        mergeSort(arr, mid+1, j)\n",
        "        ## Combine -> mergeProcedure(function calling)\n",
        "        mergeProcedure(arr, i, mid, j)\n",
        "    return arr\n",
        "\n",
        "\n",
        "## Driver code\n",
        "arr = [50, 70, 65, 13, 80, 62, 98, 27]\n",
        "i = 0\n",
        "j = len(arr) - 1\n",
        "## function calling\n",
        "result = mergeSort(arr, i, j)\n",
        "print(\"Sorted array after applying the merge sort is:\", result)"
      ],
      "metadata": {
        "id": "awDhdJ3bGmum"
      },
      "execution_count": null,
      "outputs": []
    },
    {
      "cell_type": "code",
      "source": [
        "## Implementation using the quickSort algorithm\n",
        "## Recurrence Relation -> T(n) = T(m-p) + T(q-m) + n\n",
        "## Best Case Scenario -> T(n) = T(n/2) + T(n/2) + n => O(n logn)\n",
        "## Worst Case Scenario -> T(n) = T(n-1) + n => O(n^2)\n",
        "## function definition of partition algorithm -> O(n)\n",
        "def partition(arr, p, q):\n",
        "    i = p\n",
        "    ## starting element as a pivot element\n",
        "    pivot = arr[p]\n",
        "    for j in range(i+1, q+1):\n",
        "        if arr[j] <= pivot:\n",
        "            i += 1\n",
        "            ## swap between the arr[i] and arr[j]\n",
        "            arr[i], arr[j] = arr[j], arr[i]\n",
        "    ## swap between the arr[i] and the pivot element\n",
        "    arr[i], arr[p] = arr[p], arr[i]\n",
        "    return i\n",
        "\n",
        "## function definition of quickSort\n",
        "def quickSort(arr, p, q):\n",
        "    if p < q:\n",
        "        ## function calling for partition algorithm\n",
        "        mid = partition(arr, p, q)\n",
        "        ## recursive call for left subtree\n",
        "        ## T(mid-p)\n",
        "        quickSort(arr, p, mid-1)\n",
        "        ## recursive call for right subtree\n",
        "        ## T(q-mid)\n",
        "        quickSort(arr, mid+1, q)\n",
        "    return arr\n",
        "\n",
        "## Driver code\n",
        "arr = [20, 10, 5, 70, 50, 89, 34]\n",
        "p = 0\n",
        "q = len(arr) - 1\n",
        "## function calling\n",
        "result = quickSort(arr, p, q)\n",
        "print(\"Sorted array after applying the quickSort is:\", result)"
      ],
      "metadata": {
        "id": "mQVo-qwlLNpa"
      },
      "execution_count": null,
      "outputs": []
    },
    {
      "cell_type": "code",
      "source": [
        "#Two pointer approach\n",
        "def findPair(arr):\n",
        "  l=0\n",
        "  r=len(arr)-1\n",
        "  for i in range(len(arr)-1):\n",
        "    if arr[l]+arr[r]==target:\n",
        "      return l,r\n",
        "    elif arr[l]+arr[r]>target:\n",
        "      r=r-1\n",
        "    else:\n",
        "      l=l+1\n",
        "  return -1,-1\n",
        "\n",
        "\n",
        "#driver code\n",
        "arr=[2,3,4,5,6]\n",
        "target=6\n",
        "result=findPair(arr)\n",
        "print(result)"
      ],
      "metadata": {
        "id": "Hx47OjMALVs9",
        "outputId": "d7a06859-8d39-4b1c-8878-eb77689ca897",
        "colab": {
          "base_uri": "https://localhost:8080/"
        }
      },
      "execution_count": null,
      "outputs": [
        {
          "output_type": "stream",
          "name": "stdout",
          "text": [
            "(0, 2)\n"
          ]
        }
      ]
    },
    {
      "cell_type": "code",
      "source": [
        "## Implementation using the quickSort algorithm\n",
        "## Recurrence Relation -> T(n) = T(m-p) + T(q-m) + n\n",
        "## Best Case Scenario -> T(n) = T(n/2) + T(n/2) + n => O(n logn)\n",
        "## Worst Case Scenario -> T(n) = T(n-1) + n => O(n^2)\n",
        "## function definition of partition algorithm -> O(n)\n",
        "import random\n",
        "def randompartition(arr,p,q):\n",
        "  random_pivot=random.randrange(p,q)\n",
        "  arr[p],arr[random_pivot]=arr[random_pivot],arr[p]\n",
        "  return partition(arr,p,q)\n",
        "def partition(arr, p, q):\n",
        "    i = p\n",
        "    ## starting element as a pivot element\n",
        "    pivot = arr[p]\n",
        "    for j in range(i+1, q+1):\n",
        "        if arr[j] <= pivot:\n",
        "            i += 1\n",
        "            ## swap between the arr[i] and arr[j]\n",
        "            arr[i], arr[j] = arr[j], arr[i]\n",
        "    ## swap between the arr[i] and the pivot element\n",
        "    arr[i], arr[p] = arr[p], arr[i]\n",
        "    return i\n",
        "\n",
        "## function definition of quickSort\n",
        "def quickSort(arr, p, q):\n",
        "    if p < q:\n",
        "        ## function calling for partition algorithm\n",
        "        mid = randompartition(arr, p, q)\n",
        "        ## recursive call for left subtree\n",
        "        ## T(mid-p)\n",
        "        quickSort(arr, p, mid-1)\n",
        "        ## recursive call for right subtree\n",
        "        ## T(q-mid)\n",
        "        quickSort(arr, mid+1, q)\n",
        "    return arr\n",
        "\n",
        "## Driver code\n",
        "arr = [20, 10, 5, 70, 50, 89, 34]\n",
        "p = 0\n",
        "q = len(arr) - 1\n",
        "## function calling\n",
        "result = quickSort(arr, p, q)\n",
        "print(\"Sorted array after applying the quickSort is:\", result)"
      ],
      "metadata": {
        "id": "lxusV14WRuDl",
        "outputId": "684906e6-2c65-4828-efcb-b9af7db80204",
        "colab": {
          "base_uri": "https://localhost:8080/"
        }
      },
      "execution_count": null,
      "outputs": [
        {
          "output_type": "stream",
          "name": "stdout",
          "text": [
            "Sorted array after applying the quickSort is: [5, 10, 20, 34, 50, 70, 89]\n"
          ]
        }
      ]
    },
    {
      "cell_type": "code",
      "source": [
        "#selection procedure->kth smalest element\n",
        "def partition(arr,p,q):\n",
        "  i = p\n",
        "  pivot=arr[p]\n",
        "  for j in range(i+1,q+1):\n",
        "    if arr[j] <= pivot:\n",
        "      i += 1\n",
        "      arr[i], arr[j] = arr[j], arr[i]\n",
        "  arr[i], arr[p] = arr[p], arr[i]\n",
        "  return i+1\n",
        "def SelectionProcedure(arr,p,q,k):\n",
        "  if len(arr)==1:\n",
        "    return arr[p]\n",
        "  else:\n",
        "    m=partition(arr,p,q)\n",
        "    if m==k:\n",
        "      return arr[m-1]\n",
        "    elif m<k:\n",
        "      return SelectionProcedure(arr,m,q,k)\n",
        "    else:\n",
        "      return SelectionProcedure(arr,p,m-2,k)\n",
        "\n",
        "#driver cpded\n",
        "arr=[20,6,8,5]\n",
        "k=2\n",
        "p=0\n",
        "q=len(arr)-1\n",
        "result=SelectionProcedure(arr,p,q,k)\n",
        "print(result)"
      ],
      "metadata": {
        "id": "Jh1dHcbPTJCm",
        "outputId": "b801959c-0a3a-4968-dbfd-648303955b93",
        "colab": {
          "base_uri": "https://localhost:8080/"
        }
      },
      "execution_count": null,
      "outputs": [
        {
          "output_type": "stream",
          "name": "stdout",
          "text": [
            "6\n"
          ]
        }
      ]
    },
    {
      "cell_type": "code",
      "source": [
        "#implementaion of insertion of a node in a linked list at the front\n",
        "class Node:\n",
        "  def __init__(self,data):\n",
        "    self.data=data\n",
        "    self.next=None\n",
        "\n",
        "class LinkedList:\n",
        "  def __init__(self):\n",
        "    self.head=None\n",
        "\n",
        "  def insertionatfront(self,new_data):\n",
        "    new_node=Node(new_data)\n",
        "    new_node.next=self.head\n",
        "    self.head=new_node\n",
        "\n",
        "  def printlist(self):\n",
        "    temp=self.head\n",
        "    while temp:\n",
        "      print(str(temp.data)+\" \",end=\"\")\n",
        "      temp=temp.next\n",
        "\n",
        "\n",
        "llist=LinkedList()\n",
        "llist.insertionatfront(12)\n",
        "llist.insertionatfront(15)\n",
        "llist.insertionatfront(10)\n",
        "llist.printlist()\n"
      ],
      "metadata": {
        "id": "ebPRdEKodlbz",
        "outputId": "0a92bf71-0c90-4384-81b3-ea790dcf2348",
        "colab": {
          "base_uri": "https://localhost:8080/"
        }
      },
      "execution_count": 1,
      "outputs": [
        {
          "output_type": "stream",
          "name": "stdout",
          "text": [
            "10 15 12 "
          ]
        }
      ]
    },
    {
      "cell_type": "code",
      "source": [
        "#implementaion of insertion of a node in a linked list at the end\n",
        "class Node:\n",
        "  def __init__(self,data):\n",
        "    self.data=data\n",
        "    self.next=None\n",
        "\n",
        "class LinkedList:\n",
        "  def __init__(self):\n",
        "    self.head=None\n",
        "\n",
        "  def insertionatend(self,new_data):\n",
        "    new_node=Node(new_data)\n",
        "    #if the list is empty\n",
        "    if self.head is None:\n",
        "      self.head=new_node\n",
        "      return\n",
        "    temp=self.head\n",
        "    while temp.next:\n",
        "      temp=temp.next\n",
        "    temp.next=new_node\n",
        "\n",
        "  def printlist(self):\n",
        "    temp=self.head\n",
        "    while temp:\n",
        "      print(str(temp.data)+\" \",end=\"\")\n",
        "      temp=temp.next\n",
        "\n",
        "\n",
        "llist=LinkedList()\n",
        "llist.insertionatend(12)\n",
        "llist.insertionatend(15)\n",
        "llist.insertionatend(10)\n",
        "llist.printlist()\n"
      ],
      "metadata": {
        "id": "Q1P5fgBBe1yD",
        "outputId": "e9e19255-8d62-4161-c9b0-bf19ca486e7c",
        "colab": {
          "base_uri": "https://localhost:8080/"
        }
      },
      "execution_count": 2,
      "outputs": [
        {
          "output_type": "stream",
          "name": "stdout",
          "text": [
            "12 15 10 "
          ]
        }
      ]
    },
    {
      "cell_type": "code",
      "source": [
        "#implementaion of insertion of a node in a linked list after any node\n",
        "class Node:\n",
        "  def __init__(self,data):\n",
        "    self.data=data\n",
        "    self.next=None\n",
        "\n",
        "class LinkedList:\n",
        "  def __init__(self):\n",
        "    self.head=None\n",
        "\n",
        "  def insertionatend(self,new_data):\n",
        "    new_node=Node(new_data)\n",
        "    #if the list is empty\n",
        "    if self.head is None:\n",
        "      self.head=new_node\n",
        "      return\n",
        "    temp=self.head\n",
        "    while temp.next:\n",
        "      temp=temp.next\n",
        "    temp.next=new_node\n",
        "\n",
        "  def printlist(self):\n",
        "    temp=self.head\n",
        "    while temp:\n",
        "      print(str(temp.data)+\" \",end=\"\")\n",
        "      temp=temp.next\n",
        "\n",
        "  def insertionafteranynode(self,prev_node,new_data):\n",
        "    if prev_node is None:\n",
        "      print(\"Given node must be available inside linkedlist\")\n",
        "      return\n",
        "    new_node=Node(new_data)\n",
        "    new_node.next=prev_node.next\n",
        "    prev_node.next=new_node\n",
        "\n",
        "\n",
        "\n",
        "llist=LinkedList()\n",
        "llist.insertionatend(12)\n",
        "llist.insertionatend(15)\n",
        "llist.insertionatend(10)\n",
        "llist.printlist()\n",
        "print()\n",
        "\n",
        "llist.insertionafteranynode(llist.head.next,23)\n",
        "llist.printlist()"
      ],
      "metadata": {
        "id": "y9hX4D8pm-dB",
        "outputId": "9ba46dd2-386c-4088-9af1-9af5bbbf44ac",
        "colab": {
          "base_uri": "https://localhost:8080/"
        }
      },
      "execution_count": 4,
      "outputs": [
        {
          "output_type": "stream",
          "name": "stdout",
          "text": [
            "12 15 10 \n",
            "12 15 23 10 "
          ]
        }
      ]
    },
    {
      "cell_type": "code",
      "source": [
        "#implementaion of deletion of node\n",
        "class Node:\n",
        "  def __init__(self,data):\n",
        "    self.data=data\n",
        "    self.next=None\n",
        "\n",
        "class LinkedList:\n",
        "  def __init__(self):\n",
        "    self.head=None\n",
        "\n",
        "  def insertionatend(self,new_data):\n",
        "    new_node=Node(new_data)\n",
        "    #if the list is empty\n",
        "    if self.head is None:\n",
        "      self.head=new_node\n",
        "      return\n",
        "    temp=self.head\n",
        "    while temp.next:\n",
        "      temp=temp.next\n",
        "    temp.next=new_node\n",
        "\n",
        "\n",
        "  def deletenode(self,pos):\n",
        "    if self.head is None:\n",
        "      return\n",
        "    temp=self.head\n",
        "    for i in range(pos-1):\n",
        "      temp=temp.next\n",
        "      if temp.next is None:\n",
        "        return\n",
        "\n",
        "    next_ptr=temp.next.next\n",
        "    temp.next=None\n",
        "    temp.next=next_ptr\n",
        "\n",
        "  def printlist(self):\n",
        "    temp=self.head\n",
        "    while temp:\n",
        "      print(str(temp.data)+\" \",end=\"\")\n",
        "      temp=temp.next\n",
        "\n",
        "\n",
        "llist=LinkedList()\n",
        "llist.insertionatend(12)\n",
        "llist.insertionatend(15)\n",
        "llist.insertionatend(10)\n",
        "llist.insertionatend(19)\n",
        "llist.printlist()\n",
        "print()\n",
        "llist.deletenode(1)\n",
        "llist.printlist()"
      ],
      "metadata": {
        "id": "bgzp-KIOp8HL",
        "outputId": "6ee99489-c274-47f1-b3ee-bf69e235e341",
        "colab": {
          "base_uri": "https://localhost:8080/"
        }
      },
      "execution_count": 13,
      "outputs": [
        {
          "output_type": "stream",
          "name": "stdout",
          "text": [
            "12 15 10 19 \n",
            "12 10 19 "
          ]
        }
      ]
    },
    {
      "cell_type": "code",
      "source": [
        "#implementaion of insertion of a node in a linked list after any node\n",
        "class Node:\n",
        "  def __init__(self,data):\n",
        "    self.data=data\n",
        "    self.next=None\n",
        "\n",
        "class LinkedList:\n",
        "  def __init__(self):\n",
        "    self.head=None\n",
        "\n",
        "  def insertionatend(self,new_data):\n",
        "    new_node=Node(new_data)\n",
        "    #if the list is empty\n",
        "    if self.head is None:\n",
        "      self.head=new_node\n",
        "      return\n",
        "    temp=self.head\n",
        "    while temp.next:\n",
        "      temp=temp.next\n",
        "    temp.next=new_node\n",
        "\n",
        "  def searchnode(self,key):\n",
        "    temp=self.head\n",
        "    while temp:\n",
        "      if temp.data==key:\n",
        "        return True\n",
        "      temp=temp.next\n",
        "    return False\n",
        "\n",
        "  def printlist(self):\n",
        "    temp=self.head\n",
        "    while temp:\n",
        "      print(str(temp.data)+\" \",end=\"\")\n",
        "      temp=temp.next\n",
        "\n",
        "  def insertionafteranynode(self,prev_node,new_data):\n",
        "    if prev_node is None:\n",
        "      print(\"Given node must be available inside linkedlist\")\n",
        "      return\n",
        "    new_node=Node(new_data)\n",
        "    new_node.next=prev_node.next\n",
        "    prev_node.next=new_node\n",
        "\n",
        "\n",
        "\n",
        "llist=LinkedList()\n",
        "llist.insertionatend(12)\n",
        "llist.insertionatend(15)\n",
        "llist.insertionatend(10)\n",
        "llist.printlist()\n",
        "print()\n",
        "llist.searchnode(16)\n"
      ],
      "metadata": {
        "id": "p4_-mzR2vXXE",
        "outputId": "ae6e9ba7-280d-49f6-adc1-accce5ea5fe1",
        "colab": {
          "base_uri": "https://localhost:8080/"
        }
      },
      "execution_count": 16,
      "outputs": [
        {
          "output_type": "stream",
          "name": "stdout",
          "text": [
            "12 15 10 \n"
          ]
        },
        {
          "output_type": "execute_result",
          "data": {
            "text/plain": [
              "False"
            ]
          },
          "metadata": {},
          "execution_count": 16
        }
      ]
    },
    {
      "cell_type": "code",
      "source": [
        "#implementaion of insertion of a node in a linked list after any node\n",
        "class Node:\n",
        "  def __init__(self,data):\n",
        "    self.data=data\n",
        "    self.next=None\n",
        "\n",
        "class LinkedList:\n",
        "  def __init__(self):\n",
        "    self.head=None\n",
        "\n",
        "  def insertionatend(self,new_data):\n",
        "    new_node=Node(new_data)\n",
        "    #if the list is empty\n",
        "    if self.head is None:\n",
        "      self.head=new_node\n",
        "      return\n",
        "    temp=self.head\n",
        "    while temp.next:\n",
        "      temp=temp.next\n",
        "    temp.next=new_node\n",
        "\n",
        "  def reverselist(self):\n",
        "    prev=None\n",
        "    next_ptr=None\n",
        "    curr=self.head\n",
        "\n",
        "    while curr:\n",
        "      next_ptr=curr.next\n",
        "      curr.next=prev\n",
        "      prev=curr\n",
        "      curr=next_ptr\n",
        "    self.head=prev\n",
        "\n",
        "\n",
        "  def printlist(self):\n",
        "    temp=self.head\n",
        "    while temp:\n",
        "      print(str(temp.data)+\" \",end=\"\")\n",
        "      temp=temp.next\n",
        "\n",
        "  def insertionafteranynode(self,prev_node,new_data):\n",
        "    if prev_node is None:\n",
        "      print(\"Given node must be available inside linkedlist\")\n",
        "      return\n",
        "    new_node=Node(new_data)\n",
        "    new_node.next=prev_node.next\n",
        "    prev_node.next=new_node\n",
        "\n",
        "\n",
        "\n",
        "llist=LinkedList()\n",
        "llist.insertionatend(12)\n",
        "llist.insertionatend(15)\n",
        "llist.insertionatend(10)\n",
        "llist.printlist()\n",
        "print()\n",
        "llist.reverselist()\n",
        "llist.printlist()"
      ],
      "metadata": {
        "id": "4kZSdwdpF8Lp",
        "outputId": "1246dbaf-d0ec-48de-cac8-2c788fcc136f",
        "colab": {
          "base_uri": "https://localhost:8080/"
        }
      },
      "execution_count": 17,
      "outputs": [
        {
          "output_type": "stream",
          "name": "stdout",
          "text": [
            "12 15 10 \n",
            "10 15 12 "
          ]
        }
      ]
    },
    {
      "cell_type": "code",
      "source": [
        "#implementaion of insertion of a node in a linked list after any node\n",
        "class Node:\n",
        "  def __init__(self,data):\n",
        "    self.data=data\n",
        "    self.next=None\n",
        "\n",
        "class LinkedList:\n",
        "  def __init__(self):\n",
        "    self.head=None\n",
        "\n",
        "  def insertionatend(self,new_data):\n",
        "    new_node=Node(new_data)\n",
        "    #if the list is empty\n",
        "    if self.head is None:\n",
        "      self.head=new_node\n",
        "      return\n",
        "    temp=self.head\n",
        "    while temp.next:\n",
        "      temp=temp.next\n",
        "    temp.next=new_node\n",
        "\n",
        "  def findnumofnode(self):\n",
        "    temp=self.head\n",
        "    count=0\n",
        "    while temp:\n",
        "      count+=1\n",
        "      temp=temp.next\n",
        "    return count\n",
        "  def printlist(self):\n",
        "    temp=self.head\n",
        "    while temp:\n",
        "      print(str(temp.data)+\" \",end=\"\")\n",
        "      temp=temp.next\n",
        "\n",
        "  def insertionafteranynode(self,prev_node,new_data):\n",
        "    if prev_node is None:\n",
        "      print(\"Given node must be available inside linkedlist\")\n",
        "      return\n",
        "    new_node=Node(new_data)\n",
        "    new_node.next=prev_node.next\n",
        "    prev_node.next=new_node\n",
        "\n",
        "\n",
        "\n",
        "llist=LinkedList()\n",
        "llist.insertionatend(12)\n",
        "llist.insertionatend(15)\n",
        "llist.insertionatend(10)\n",
        "llist.printlist()\n",
        "print()\n",
        "count=llist.findnumofnode()\n",
        "print(count)"
      ],
      "metadata": {
        "id": "DcaUYBwXQ5ji",
        "outputId": "9ea62007-e0b0-4a77-f63e-16bce37afa1f",
        "colab": {
          "base_uri": "https://localhost:8080/"
        }
      },
      "execution_count": 19,
      "outputs": [
        {
          "output_type": "stream",
          "name": "stdout",
          "text": [
            "12 15 10 \n",
            "3\n"
          ]
        }
      ]
    },
    {
      "cell_type": "code",
      "source": [
        "class Node:\n",
        "    def __init__(self, data):\n",
        "        self.data = data\n",
        "        self.next = None\n",
        "\n",
        "class LinkedList:\n",
        "    def __init__(self):\n",
        "        self.head = None\n",
        "\n",
        "    ## insert at the front/beginning of the linked list\n",
        "    def insertAtEnd(self, new_data):\n",
        "        ## creation of the new node\n",
        "        new_node = Node(new_data)\n",
        "\n",
        "        ## linked list is empty\n",
        "        if self.head is None:\n",
        "            self.head = new_node\n",
        "            return\n",
        "\n",
        "        ## insertion at the end\n",
        "        temp = self.head\n",
        "        while temp.next:\n",
        "            temp = temp.next\n",
        "\n",
        "        temp.next = new_node\n",
        "\n",
        "    ## detection of the loops inside the linked list\n",
        "    ## Floyd's Cycle Detection Algorithm\n",
        "    def detectLoop(self):\n",
        "        hare = self.head\n",
        "        tortoise = self.head\n",
        "        while tortoise and hare and hare.next:\n",
        "            hare = hare.next.next\n",
        "            tortoise = tortoise.next\n",
        "            if tortoise == hare:\n",
        "                return True\n",
        "        return False\n",
        "\n",
        "    ## print the linked list\n",
        "    def printList(self):\n",
        "        temp = self.head\n",
        "        while temp:\n",
        "            print(str(temp.data)+\" \",end=\" \")\n",
        "            temp = temp.next\n",
        "\n",
        "\n",
        "## Driver code\n",
        "llist = LinkedList()\n",
        "## function calling\n",
        "llist.insertAtEnd(12)\n",
        "llist.insertAtEnd(8)\n",
        "llist.insertAtEnd(9)\n",
        "llist.insertAtEnd(10)\n",
        "llist.printList()\n",
        "\n",
        "llist.head.next.next.next = llist.head\n",
        "print()\n",
        "if llist.detectLoop():\n",
        "    print(\"Detected the Loop inside the linked list\")\n",
        "else:\n",
        "    print(\"No Loop\")"
      ],
      "metadata": {
        "id": "EgdOMrAeTNp6",
        "outputId": "27130113-def6-488c-8af2-2a9191dccee5",
        "colab": {
          "base_uri": "https://localhost:8080/"
        }
      },
      "execution_count": 20,
      "outputs": [
        {
          "output_type": "stream",
          "name": "stdout",
          "text": [
            "12  8  9  10  \n",
            "Detected the Loop inside the linked list\n"
          ]
        }
      ]
    },
    {
      "cell_type": "code",
      "source": [
        "class Node:\n",
        "    def __init__(self, data):\n",
        "        self.data = data\n",
        "        self.next = None\n",
        "\n",
        "class LinkedList:\n",
        "    def __init__(self):\n",
        "        self.head = None\n",
        "\n",
        "    ## insert at the front/beginning of the linked list\n",
        "    def insertAtEnd(self, new_data):\n",
        "        ## creation of the new node\n",
        "        new_node = Node(new_data)\n",
        "\n",
        "        ## linked list is empty\n",
        "        if self.head is None:\n",
        "            self.head = new_node\n",
        "            return\n",
        "\n",
        "        ## insertion at the end\n",
        "        temp = self.head\n",
        "        while temp.next:\n",
        "            temp = temp.next\n",
        "\n",
        "        temp.next = new_node\n",
        "\n",
        "\n",
        "    ## print the linked list\n",
        "    def printList(self):\n",
        "        temp = self.head\n",
        "        while temp:\n",
        "            print(str(temp.data)+\" \",end=\" \")\n",
        "            temp = temp.next\n",
        "\n",
        "\n",
        "\n",
        "\n",
        "## Driver code\n",
        "llist1 = LinkedList()\n",
        "## function calling\n",
        "llist1.insertAtEnd(8)\n",
        "llist1.insertAtEnd(9)\n",
        "llist1.insertAtEnd(10)\n",
        "llist1.insertAtEnd(12)\n",
        "llist1.insertAtEnd(14)\n",
        "class Node:\n",
        "    def __init__(self, data):\n",
        "        self.data = data\n",
        "        self.next = None\n",
        "\n",
        "class LinkedList:\n",
        "    def __init__(self):\n",
        "        self.head = None\n",
        "\n",
        "    ## insert at the front/beginning of the linked list\n",
        "    def insertAtEnd(self, new_data):\n",
        "        ## creation of the new node\n",
        "        new_node = Node(new_data)\n",
        "\n",
        "        ## linked list is empty\n",
        "        if self.head is None:\n",
        "            self.head = new_node\n",
        "            return\n",
        "\n",
        "        ## insertion at the end\n",
        "        temp = self.head\n",
        "        while temp.next:\n",
        "            temp = temp.next\n",
        "\n",
        "        temp.next = new_node\n",
        "\n",
        "\n",
        "    ## print the linked list\n",
        "    def printList(self):\n",
        "        temp = self.head\n",
        "        while temp:\n",
        "            print(str(temp.data)+\" \",end=\" \")\n",
        "            temp = temp.next\n",
        "\n",
        "\n",
        "## method definition to merge the lists\n",
        "## Time complexity:\n",
        "def mergeLists(head1, head2):\n",
        "    temp = None\n",
        "    ## llist1 is empty\n",
        "    if head1 is None:\n",
        "        return head2\n",
        "\n",
        "    ## llist2 is empty\n",
        "    if head2 is None:\n",
        "        return head1\n",
        "\n",
        "    if head1.data <= head2.data:\n",
        "        temp = head1\n",
        "        ## recursive function calling happened\n",
        "        temp.next = mergeLists(head1.next, head2)\n",
        "    else:\n",
        "        ## recursive function calling happened\n",
        "        temp = head2\n",
        "        temp.next = mergeLists(head1, head2.next)\n",
        "    return temp\n",
        "\n",
        "\n",
        "## Driver code\n",
        "llist1 = LinkedList()\n",
        "## function calling\n",
        "llist1.insertAtEnd(8)\n",
        "llist1.insertAtEnd(9)\n",
        "llist1.insertAtEnd(10)\n",
        "llist1.insertAtEnd(12)\n",
        "llist1.insertAtEnd(14)\n",
        "llist1.insertAtEnd(16)\n",
        "print(\"First Linked List\")\n",
        "llist1.printList()\n",
        "print()\n",
        "\n",
        "llist2 = LinkedList()\n",
        "## function calling\n",
        "llist2.insertAtEnd(1)\n",
        "llist2.insertAtEnd(5)\n",
        "llist2.insertAtEnd(7)\n",
        "llist2.insertAtEnd(15)\n",
        "llist2.insertAtEnd(90)\n",
        "print(\"Second Linked List\")\n",
        "llist2.printList()\n",
        "print()\n",
        "\n",
        "llist3 = LinkedList()\n",
        "llist3.head = mergeLists(llist1.head, llist2.head)\n",
        "print(\"Merge Lists\")\n",
        "llist3.printList()"
      ],
      "metadata": {
        "id": "454FOu76WB1v"
      },
      "execution_count": null,
      "outputs": []
    },
    {
      "cell_type": "code",
      "source": [
        "## Implementation of stack using array data structure\n",
        "## URL is using the stack data structure -> LIFO\n",
        "## append -> pushing the data inside the stack\n",
        "stack = []\n",
        "stack.append('https://leetcode.com/')\n",
        "stack.append('https://leetcode.com/explore/')\n",
        "stack.append('https://leetcode.com/problemset/all/')\n",
        "stack.append('https://leetcode.com/problems/two-sum/')"
      ],
      "metadata": {
        "id": "8-6u_04BlR43"
      },
      "execution_count": 21,
      "outputs": []
    },
    {
      "cell_type": "code",
      "source": [
        "stack.pop()"
      ],
      "metadata": {
        "id": "xmPeDIE0lU51",
        "outputId": "66982083-39ee-4dcc-f9f5-19db0568c14f",
        "colab": {
          "base_uri": "https://localhost:8080/",
          "height": 36
        }
      },
      "execution_count": 23,
      "outputs": [
        {
          "output_type": "execute_result",
          "data": {
            "text/plain": [
              "'https://leetcode.com/problems/two-sum/'"
            ],
            "application/vnd.google.colaboratory.intrinsic+json": {
              "type": "string"
            }
          },
          "metadata": {},
          "execution_count": 23
        }
      ]
    },
    {
      "cell_type": "code",
      "source": [
        "stack"
      ],
      "metadata": {
        "id": "gkJT8_0mlW4Q",
        "outputId": "d2485b9e-cf4f-4ad5-facb-a4074fa31e3d",
        "colab": {
          "base_uri": "https://localhost:8080/"
        }
      },
      "execution_count": 24,
      "outputs": [
        {
          "output_type": "execute_result",
          "data": {
            "text/plain": [
              "['https://leetcode.com/',\n",
              " 'https://leetcode.com/explore/',\n",
              " 'https://leetcode.com/problemset/all/']"
            ]
          },
          "metadata": {},
          "execution_count": 24
        }
      ]
    },
    {
      "cell_type": "code",
      "source": [
        "#peep\n",
        "stack[-1]"
      ],
      "metadata": {
        "id": "lUWTKOXXlc9z",
        "outputId": "a09e215d-5b8e-4b82-91a3-c0f0bc1c767f",
        "colab": {
          "base_uri": "https://localhost:8080/",
          "height": 36
        }
      },
      "execution_count": 25,
      "outputs": [
        {
          "output_type": "execute_result",
          "data": {
            "text/plain": [
              "'https://leetcode.com/problemset/all/'"
            ],
            "application/vnd.google.colaboratory.intrinsic+json": {
              "type": "string"
            }
          },
          "metadata": {},
          "execution_count": 25
        }
      ]
    },
    {
      "cell_type": "code",
      "source": [
        "stack.pop()"
      ],
      "metadata": {
        "id": "UbTvMYlQlkBf",
        "outputId": "88e2cc1f-13e7-4c95-f1ac-cf51ed927aca",
        "colab": {
          "base_uri": "https://localhost:8080/",
          "height": 36
        }
      },
      "execution_count": 26,
      "outputs": [
        {
          "output_type": "execute_result",
          "data": {
            "text/plain": [
              "'https://leetcode.com/problemset/all/'"
            ],
            "application/vnd.google.colaboratory.intrinsic+json": {
              "type": "string"
            }
          },
          "metadata": {},
          "execution_count": 26
        }
      ]
    },
    {
      "cell_type": "code",
      "source": [
        "stack.pop()"
      ],
      "metadata": {
        "id": "c9nmOjN7lmEF",
        "outputId": "21d7afa8-ce7f-46a3-8c9c-3dd3eded737e",
        "colab": {
          "base_uri": "https://localhost:8080/",
          "height": 36
        }
      },
      "execution_count": 27,
      "outputs": [
        {
          "output_type": "execute_result",
          "data": {
            "text/plain": [
              "'https://leetcode.com/explore/'"
            ],
            "application/vnd.google.colaboratory.intrinsic+json": {
              "type": "string"
            }
          },
          "metadata": {},
          "execution_count": 27
        }
      ]
    },
    {
      "cell_type": "code",
      "source": [
        "stack.pop()"
      ],
      "metadata": {
        "id": "eJUoWhLyloA2",
        "outputId": "4890d52a-ec2a-4ce2-ffb3-f0974ccc0543",
        "colab": {
          "base_uri": "https://localhost:8080/",
          "height": 36
        }
      },
      "execution_count": 28,
      "outputs": [
        {
          "output_type": "execute_result",
          "data": {
            "text/plain": [
              "'https://leetcode.com/'"
            ],
            "application/vnd.google.colaboratory.intrinsic+json": {
              "type": "string"
            }
          },
          "metadata": {},
          "execution_count": 28
        }
      ]
    },
    {
      "cell_type": "code",
      "source": [
        "stack.pop()"
      ],
      "metadata": {
        "id": "ulJyh0HAlp54",
        "outputId": "be5dbe19-98b5-4711-bf6e-d80ec61a3e96",
        "colab": {
          "base_uri": "https://localhost:8080/",
          "height": 165
        }
      },
      "execution_count": 29,
      "outputs": [
        {
          "output_type": "error",
          "ename": "IndexError",
          "evalue": "ignored",
          "traceback": [
            "\u001b[0;31m---------------------------------------------------------------------------\u001b[0m",
            "\u001b[0;31mIndexError\u001b[0m                                Traceback (most recent call last)",
            "\u001b[0;32m<ipython-input-29-415460d3b717>\u001b[0m in \u001b[0;36m<cell line: 1>\u001b[0;34m()\u001b[0m\n\u001b[0;32m----> 1\u001b[0;31m \u001b[0mstack\u001b[0m\u001b[0;34m.\u001b[0m\u001b[0mpop\u001b[0m\u001b[0;34m(\u001b[0m\u001b[0;34m)\u001b[0m\u001b[0;34m\u001b[0m\u001b[0;34m\u001b[0m\u001b[0m\n\u001b[0m",
            "\u001b[0;31mIndexError\u001b[0m: pop from empty list"
          ]
        }
      ]
    },
    {
      "cell_type": "code",
      "source": [
        "## Implementation of stack using circular deque\n",
        "from collections import deque\n",
        "stack = deque()"
      ],
      "metadata": {
        "id": "ZflJ42KUlsWx"
      },
      "execution_count": 30,
      "outputs": []
    },
    {
      "cell_type": "code",
      "source": [
        "dir(stack)"
      ],
      "metadata": {
        "id": "agR_CaKul0PM",
        "outputId": "1ca5f207-0b50-467c-8301-1e60cd72ef63",
        "colab": {
          "base_uri": "https://localhost:8080/"
        }
      },
      "execution_count": 31,
      "outputs": [
        {
          "output_type": "execute_result",
          "data": {
            "text/plain": [
              "['__add__',\n",
              " '__bool__',\n",
              " '__class__',\n",
              " '__class_getitem__',\n",
              " '__contains__',\n",
              " '__copy__',\n",
              " '__delattr__',\n",
              " '__delitem__',\n",
              " '__dir__',\n",
              " '__doc__',\n",
              " '__eq__',\n",
              " '__format__',\n",
              " '__ge__',\n",
              " '__getattribute__',\n",
              " '__getitem__',\n",
              " '__gt__',\n",
              " '__hash__',\n",
              " '__iadd__',\n",
              " '__imul__',\n",
              " '__init__',\n",
              " '__init_subclass__',\n",
              " '__iter__',\n",
              " '__le__',\n",
              " '__len__',\n",
              " '__lt__',\n",
              " '__mul__',\n",
              " '__ne__',\n",
              " '__new__',\n",
              " '__reduce__',\n",
              " '__reduce_ex__',\n",
              " '__repr__',\n",
              " '__reversed__',\n",
              " '__rmul__',\n",
              " '__setattr__',\n",
              " '__setitem__',\n",
              " '__sizeof__',\n",
              " '__str__',\n",
              " '__subclasshook__',\n",
              " 'append',\n",
              " 'appendleft',\n",
              " 'clear',\n",
              " 'copy',\n",
              " 'count',\n",
              " 'extend',\n",
              " 'extendleft',\n",
              " 'index',\n",
              " 'insert',\n",
              " 'maxlen',\n",
              " 'pop',\n",
              " 'popleft',\n",
              " 'remove',\n",
              " 'reverse',\n",
              " 'rotate']"
            ]
          },
          "metadata": {},
          "execution_count": 31
        }
      ]
    },
    {
      "cell_type": "code",
      "source": [
        "stack.append('https://leetcode.com/')\n",
        "stack.append('https://leetcode.com/explore/')\n",
        "stack.append('https://leetcode.com/problemset/all/')\n",
        "stack.append('https://leetcode.com/problems/two-sum/')"
      ],
      "metadata": {
        "id": "ZT-lD5nwl2oL"
      },
      "execution_count": 32,
      "outputs": []
    },
    {
      "cell_type": "code",
      "source": [
        "stack"
      ],
      "metadata": {
        "id": "q8U9wL6Al9dQ",
        "outputId": "cf462406-a730-4c25-a4a8-731877a1247b",
        "colab": {
          "base_uri": "https://localhost:8080/"
        }
      },
      "execution_count": 33,
      "outputs": [
        {
          "output_type": "execute_result",
          "data": {
            "text/plain": [
              "deque(['https://leetcode.com/',\n",
              "       'https://leetcode.com/explore/',\n",
              "       'https://leetcode.com/problemset/all/',\n",
              "       'https://leetcode.com/problems/two-sum/'])"
            ]
          },
          "metadata": {},
          "execution_count": 33
        }
      ]
    },
    {
      "cell_type": "code",
      "source": [
        "stack.pop()"
      ],
      "metadata": {
        "id": "d3vuxEORl-6r",
        "outputId": "eb199657-60c0-4db7-c1d7-1c050b06ba4d",
        "colab": {
          "base_uri": "https://localhost:8080/",
          "height": 36
        }
      },
      "execution_count": 34,
      "outputs": [
        {
          "output_type": "execute_result",
          "data": {
            "text/plain": [
              "'https://leetcode.com/problems/two-sum/'"
            ],
            "application/vnd.google.colaboratory.intrinsic+json": {
              "type": "string"
            }
          },
          "metadata": {},
          "execution_count": 34
        }
      ]
    },
    {
      "cell_type": "code",
      "source": [
        "## Create your own class and define the function inside that for the stack\n",
        "## data structure\n",
        "class Stack:\n",
        "    def __init__(self):\n",
        "        self.data = deque()\n",
        "\n",
        "    ## insertion inside the stack data structure\n",
        "    def push(self, data):\n",
        "        self.data.append(data)\n",
        "\n",
        "    ## deletion inside the stack data structure\n",
        "    def pop(self):\n",
        "        return self.data.pop()\n",
        "\n",
        "    ## last element inside the stack data structure\n",
        "    def peek(self):\n",
        "        return self.data[-1]\n",
        "\n",
        "    ## size of the stack\n",
        "    def size(self):\n",
        "        return len(self.data)\n",
        "\n",
        "    ## to check whether the stack is empty or not\n",
        "    def isEmpty(self):\n",
        "        return len(self.data) == 0\n",
        ""
      ],
      "metadata": {
        "id": "XMC_WN05mCRI"
      },
      "execution_count": 35,
      "outputs": []
    },
    {
      "cell_type": "code",
      "source": [
        "s = Stack()\n",
        "s.push(19)\n",
        "s.push(18)\n",
        "s.push(12)\n",
        "s.push(5)\n",
        "s.push(14)"
      ],
      "metadata": {
        "id": "XIp1_g4tmQia"
      },
      "execution_count": 36,
      "outputs": []
    },
    {
      "cell_type": "code",
      "source": [
        "s.peek()"
      ],
      "metadata": {
        "id": "uVfT91IumTg3",
        "outputId": "44df6028-bc55-4eb2-f7f6-1d3c8a9443c1",
        "colab": {
          "base_uri": "https://localhost:8080/"
        }
      },
      "execution_count": 37,
      "outputs": [
        {
          "output_type": "execute_result",
          "data": {
            "text/plain": [
              "14"
            ]
          },
          "metadata": {},
          "execution_count": 37
        }
      ]
    },
    {
      "cell_type": "code",
      "source": [
        "s.isEmpty()"
      ],
      "metadata": {
        "id": "OQqAHo7vmWUj",
        "outputId": "b40cbcec-8106-4e0a-9f27-574f4ab0ed34",
        "colab": {
          "base_uri": "https://localhost:8080/"
        }
      },
      "execution_count": 38,
      "outputs": [
        {
          "output_type": "execute_result",
          "data": {
            "text/plain": [
              "False"
            ]
          },
          "metadata": {},
          "execution_count": 38
        }
      ]
    },
    {
      "cell_type": "code",
      "source": [
        "## Queue -> FIFO(First In First Out)\n",
        "## Enqueue operation in a queue using an array data structure\n",
        "ICICI_Preduntial_Mutual_Stock = []\n",
        "ICICI_Preduntial_Mutual_Stock.insert(0, 12)\n",
        "ICICI_Preduntial_Mutual_Stock.insert(0, 16)\n",
        "ICICI_Preduntial_Mutual_Stock.insert(0, 19)"
      ],
      "metadata": {
        "id": "5UbFNXrOmaVX"
      },
      "execution_count": 39,
      "outputs": []
    },
    {
      "cell_type": "code",
      "source": [
        "ICICI_Preduntial_Mutual_Stock"
      ],
      "metadata": {
        "id": "UwlhpNm1qN7F",
        "outputId": "34401fd3-5e0b-46c9-81c4-1a31b7cc9416",
        "colab": {
          "base_uri": "https://localhost:8080/"
        }
      },
      "execution_count": 40,
      "outputs": [
        {
          "output_type": "execute_result",
          "data": {
            "text/plain": [
              "[19, 16, 12]"
            ]
          },
          "metadata": {},
          "execution_count": 40
        }
      ]
    },
    {
      "cell_type": "code",
      "source": [
        "# Dequeue operation in the queue data structure\n",
        "ICICI_Preduntial_Mutual_Stock.pop()"
      ],
      "metadata": {
        "id": "HdpxkQrwqQDf",
        "outputId": "8593179e-b09d-46a3-a72f-1ef85cd8fb2a",
        "colab": {
          "base_uri": "https://localhost:8080/"
        }
      },
      "execution_count": 41,
      "outputs": [
        {
          "output_type": "execute_result",
          "data": {
            "text/plain": [
              "12"
            ]
          },
          "metadata": {},
          "execution_count": 41
        }
      ]
    },
    {
      "cell_type": "code",
      "source": [
        "ICICI_Preduntial_Mutual_Stock.pop()"
      ],
      "metadata": {
        "id": "_WDliSqnqVkR",
        "outputId": "6c3ac6f5-ae11-49b0-82b6-7e4d81d8af1f",
        "colab": {
          "base_uri": "https://localhost:8080/"
        }
      },
      "execution_count": 42,
      "outputs": [
        {
          "output_type": "execute_result",
          "data": {
            "text/plain": [
              "16"
            ]
          },
          "metadata": {},
          "execution_count": 42
        }
      ]
    },
    {
      "cell_type": "code",
      "source": [
        "## Enqueue operation in the queue data structure using the linked list\n",
        "from collections import deque\n",
        "q = deque()"
      ],
      "metadata": {
        "id": "WiB4bceEqccL"
      },
      "execution_count": 43,
      "outputs": []
    },
    {
      "cell_type": "code",
      "source": [
        "# number of operations inside the collections.deque\n",
        "dir(q)"
      ],
      "metadata": {
        "id": "GuF34uZ6qhgi",
        "outputId": "38c7bd34-b98e-4208-9aa8-f32ece2a0709",
        "colab": {
          "base_uri": "https://localhost:8080/"
        }
      },
      "execution_count": 44,
      "outputs": [
        {
          "output_type": "execute_result",
          "data": {
            "text/plain": [
              "['__add__',\n",
              " '__bool__',\n",
              " '__class__',\n",
              " '__class_getitem__',\n",
              " '__contains__',\n",
              " '__copy__',\n",
              " '__delattr__',\n",
              " '__delitem__',\n",
              " '__dir__',\n",
              " '__doc__',\n",
              " '__eq__',\n",
              " '__format__',\n",
              " '__ge__',\n",
              " '__getattribute__',\n",
              " '__getitem__',\n",
              " '__gt__',\n",
              " '__hash__',\n",
              " '__iadd__',\n",
              " '__imul__',\n",
              " '__init__',\n",
              " '__init_subclass__',\n",
              " '__iter__',\n",
              " '__le__',\n",
              " '__len__',\n",
              " '__lt__',\n",
              " '__mul__',\n",
              " '__ne__',\n",
              " '__new__',\n",
              " '__reduce__',\n",
              " '__reduce_ex__',\n",
              " '__repr__',\n",
              " '__reversed__',\n",
              " '__rmul__',\n",
              " '__setattr__',\n",
              " '__setitem__',\n",
              " '__sizeof__',\n",
              " '__str__',\n",
              " '__subclasshook__',\n",
              " 'append',\n",
              " 'appendleft',\n",
              " 'clear',\n",
              " 'copy',\n",
              " 'count',\n",
              " 'extend',\n",
              " 'extendleft',\n",
              " 'index',\n",
              " 'insert',\n",
              " 'maxlen',\n",
              " 'pop',\n",
              " 'popleft',\n",
              " 'remove',\n",
              " 'reverse',\n",
              " 'rotate']"
            ]
          },
          "metadata": {},
          "execution_count": 44
        }
      ]
    },
    {
      "cell_type": "code",
      "source": [
        "## Enqueue operation inside the queue data structure\n",
        "## FIFO Operation is executed\n",
        "q.appendleft(12)\n",
        "q.appendleft(16)\n",
        "q.appendleft(19)"
      ],
      "metadata": {
        "id": "Y2D_JZ2JqkAP"
      },
      "execution_count": 45,
      "outputs": []
    },
    {
      "cell_type": "code",
      "source": [
        "q"
      ],
      "metadata": {
        "id": "1ww7wx8oqttf",
        "outputId": "8ffbbe74-6cb6-49f2-91a0-8d1d28c5b591",
        "colab": {
          "base_uri": "https://localhost:8080/"
        }
      },
      "execution_count": 46,
      "outputs": [
        {
          "output_type": "execute_result",
          "data": {
            "text/plain": [
              "deque([19, 16, 12])"
            ]
          },
          "metadata": {},
          "execution_count": 46
        }
      ]
    },
    {
      "cell_type": "code",
      "source": [
        "q.pop()"
      ],
      "metadata": {
        "id": "soi0WkEfquV_",
        "outputId": "08af5143-bb17-49f2-b41f-74d240c5ca48",
        "colab": {
          "base_uri": "https://localhost:8080/"
        }
      },
      "execution_count": 47,
      "outputs": [
        {
          "output_type": "execute_result",
          "data": {
            "text/plain": [
              "12"
            ]
          },
          "metadata": {},
          "execution_count": 47
        }
      ]
    },
    {
      "cell_type": "code",
      "source": [
        "class Queue:\n",
        "    def __init__(self):\n",
        "        self.buffer = deque()\n",
        "\n",
        "    def enqueue(self, data):\n",
        "        self.buffer.appendleft(data)\n",
        "\n",
        "    def isEmpty(self):\n",
        "        return len(self.buffer) == 0\n",
        "\n",
        "    def size(self):\n",
        "        return len(self.buffer)\n",
        "\n",
        "    def dequeue(self):\n",
        "        return self.buffer.pop()"
      ],
      "metadata": {
        "id": "6UWrx2pIqvuL"
      },
      "execution_count": 48,
      "outputs": []
    },
    {
      "cell_type": "code",
      "source": [
        "q = Queue()\n",
        "q.enqueue(12)"
      ],
      "metadata": {
        "id": "PLZ3LKAjq2qT"
      },
      "execution_count": 49,
      "outputs": []
    },
    {
      "cell_type": "code",
      "source": [
        "q.enqueue(16)"
      ],
      "metadata": {
        "id": "uAgLpsHBq6MI"
      },
      "execution_count": 50,
      "outputs": []
    },
    {
      "cell_type": "code",
      "source": [
        "q.size()"
      ],
      "metadata": {
        "id": "YU0oVZk2q-lm",
        "outputId": "cc052c8a-6c27-4918-d87c-99b56c8d5749",
        "colab": {
          "base_uri": "https://localhost:8080/"
        }
      },
      "execution_count": 51,
      "outputs": [
        {
          "output_type": "execute_result",
          "data": {
            "text/plain": [
              "2"
            ]
          },
          "metadata": {},
          "execution_count": 51
        }
      ]
    },
    {
      "cell_type": "code",
      "source": [],
      "metadata": {
        "id": "Bj-6E3KTrB-y"
      },
      "execution_count": null,
      "outputs": []
    }
  ]
}